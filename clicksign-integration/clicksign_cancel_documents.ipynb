{
 "cells": [
  {
   "cell_type": "code",
   "execution_count": null,
   "metadata": {},
   "outputs": [],
   "source": [
    "import pandas as pd\n",
    "import csv\n",
    "import logging\n",
    "import clicksign_api\n",
    "\n",
    "logging.basicConfig(\n",
    "    filename=\"clicksign-integration.log\", filemode='a', datefmt='%H:%M:%S',\n",
    "    format='%(asctime)s,%(msecs)d %(name)s %(levelname)s %(message)s', level=logging.WARNING)"
   ]
  },
  {
   "cell_type": "code",
   "execution_count": null,
   "metadata": {},
   "outputs": [],
   "source": [
    "df_database = pd.read_csv(\"./documents_database.csv\", quoting=csv.QUOTE_ALL, na_filter=False)"
   ]
  },
  {
   "cell_type": "code",
   "execution_count": null,
   "metadata": {},
   "outputs": [],
   "source": [
    "for document_key in list(df_database[\"document_key\"]):\n",
    "    clicksign_api.cancel_document(document_key)"
   ]
  }
 ],
 "metadata": {
  "kernelspec": {
   "display_name": "Python 3.10.5 64-bit",
   "language": "python",
   "name": "python3"
  },
  "language_info": {
   "codemirror_mode": {
    "name": "ipython",
    "version": 3
   },
   "file_extension": ".py",
   "mimetype": "text/x-python",
   "name": "python",
   "nbconvert_exporter": "python",
   "pygments_lexer": "ipython3",
   "version": "3.10.5"
  },
  "orig_nbformat": 4,
  "vscode": {
   "interpreter": {
    "hash": "0656e5733dcdbf868c97d5406dad0c13a29723660b66809e4b33f245774d5e58"
   }
  }
 },
 "nbformat": 4,
 "nbformat_minor": 2
}
