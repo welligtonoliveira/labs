{
 "cells": [
  {
   "cell_type": "code",
   "execution_count": 1,
   "metadata": {
    "id": "6InT_MuTb4-N"
   },
   "outputs": [],
   "source": [
    "import logging\n",
    "import documents\n",
    "\n",
    "logging.basicConfig(\n",
    "    filename=\"clicksign-integration.log\", filemode='w', datefmt='%H:%M:%S',\n",
    "    format='%(asctime)s,%(msecs)d %(name)s %(levelname)s %(message)s', level=logging.INFO)"
   ]
  },
  {
   "cell_type": "code",
   "execution_count": 3,
   "metadata": {
    "id": "9BQBlFBf0PMV"
   },
   "outputs": [
    {
     "name": "stdout",
     "output_type": "stream",
     "text": [
      "57\n"
     ]
    }
   ],
   "source": [
    "docs = documents.read_file(\"./csv/novos_lastros_ajustados.csv\")\n",
    "print(len(docs))"
   ]
  },
  {
   "cell_type": "code",
   "execution_count": 4,
   "metadata": {
    "id": "KaV0e_6p1TdY"
   },
   "outputs": [
    {
     "name": "stderr",
     "output_type": "stream",
     "text": [
      "/Users/welligton.oliveira/Labs/clicksign-integration/documents.py:149: FutureWarning: The behavior of DataFrame concatenation with empty or all-NA entries is deprecated. In a future version, this will no longer exclude empty or all-NA columns when determining the result dtypes. To retain the old behavior, exclude the relevant entries before the concat operation.\n",
      "  df_database = pd.concat([df_database, pd.DataFrame([row])], ignore_index=True)\n"
     ]
    },
    {
     "name": "stdout",
     "output_type": "stream",
     "text": [
      "created: 57 existing: 0 error: 0\n"
     ]
    }
   ],
   "source": [
    "created, existing, error = documents.create(docs)\n",
    "print(\"created:\", created, \"existing:\", existing, \"error:\", error)"
   ]
  },
  {
   "cell_type": "code",
   "execution_count": 5,
   "metadata": {},
   "outputs": [
    {
     "name": "stdout",
     "output_type": "stream",
     "text": [
      "created: 57 existing: 0 error: 0\n"
     ]
    }
   ],
   "source": [
    "created, existing, error = documents.add_signatary()\n",
    "print(\"created:\", created, \"existing:\", existing, \"error:\", error)"
   ]
  },
  {
   "cell_type": "code",
   "execution_count": 6,
   "metadata": {},
   "outputs": [],
   "source": [
    "documents.create_batch_and_notification()"
   ]
  }
 ],
 "metadata": {
  "colab": {
   "collapsed_sections": [],
   "name": "clicksign_integration.ipynb",
   "provenance": []
  },
  "kernelspec": {
   "display_name": ".venv",
   "language": "python",
   "name": "python3"
  },
  "language_info": {
   "codemirror_mode": {
    "name": "ipython",
    "version": 3
   },
   "file_extension": ".py",
   "mimetype": "text/x-python",
   "name": "python",
   "nbconvert_exporter": "python",
   "pygments_lexer": "ipython3",
   "version": "3.10.15"
  }
 },
 "nbformat": 4,
 "nbformat_minor": 0
}
